{
 "cells": [
  {
   "cell_type": "markdown",
   "id": "6ba26a90",
   "metadata": {},
   "source": [
    "Дисциплина: Advnced Machine Learning<br>\n",
    "Домашнее задание №3<br>\n",
    "Студент: Акопян Артем<br>\n",
    "Группа: DS-22"
   ]
  },
  {
   "cell_type": "markdown",
   "id": "3be45b8e",
   "metadata": {},
   "source": [
    "# Homework 3"
   ]
  },
  {
   "cell_type": "code",
   "execution_count": 24,
   "id": "af919221",
   "metadata": {},
   "outputs": [],
   "source": [
    "from typing import Tuple\n",
    "from collections import Counter\n",
    "import itertools\n",
    "import math\n",
    "import random\n",
    "import copy\n",
    "import re\n",
    "\n",
    "from tqdm import tqdm\n",
    "\n",
    "import numpy as np\n",
    "from nltk import everygrams\n",
    "\n",
    "import matplotlib.pyplot as plt"
   ]
  },
  {
   "cell_type": "code",
   "execution_count": 25,
   "id": "94c193c0",
   "metadata": {},
   "outputs": [],
   "source": [
    "NOVELS = [\"Karenina\", \"WaP\", \"WaP_en\"]\n",
    "EXAMPLES = [\n",
    "\"\"\"Минуты через две из двери бодрым шагом вышла, быстро повернулась и стала подле \\\n",
    "надзирателя невысокая и очень полногрудая молодая женщина в сером халате, надетом \\\n",
    "на белую кофту и на белую юбку. На ногах женщины были полотняные чулки, на \\\n",
    "чулках — острожные коты, голова была повязана белой косынкой, из-под которой, очевидно \\\n",
    "умышленно, были выпущены колечки вьющихся черных волос. Все лицо женщины было той \\\n",
    "особенной белизны, которая бывает на лицах людей, проведших долгое время взаперти, и \\\n",
    "которая напоминает ростки картофеля в подвале.\"\"\",\n",
    "            \n",
    "\"\"\"What did it matter where you lay once you were dead? \\\n",
    "In a dirty sump or in a marble tower on top of a high hill? \\\n",
    "You were dead, you were sleeping the big sleep, you were not bothered by things like that.\"\"\"\n",
    "]\n",
    "\n",
    "SPACE = [\" \"]\n",
    "ALFA_RUS = \"а б в г д е ё ж з и й к л м н о п р с т у ф х ц ч ш щ ъ ы ь э ю я\".split() + SPACE\n",
    "ALFA_ENG = [chr(ord(\"a\") + i) for i in range(26)] + SPACE"
   ]
  },
  {
   "cell_type": "code",
   "execution_count": 26,
   "id": "c8fe2bbe",
   "metadata": {},
   "outputs": [],
   "source": [
    "RUS_RE = re.compile(\"[^а-я ]*\")\n",
    "ENG_RE = re.compile(\"[^a-z ]*\")"
   ]
  },
  {
   "cell_type": "code",
   "execution_count": 27,
   "id": "3c0954f3",
   "metadata": {},
   "outputs": [],
   "source": [
    "# Load corpora\n",
    "texts = []\n",
    "\n",
    "with open(\"AnnaKarenina.txt\", \"r\", encoding=\"UTF-8\") as handler:\n",
    "    text = handler.read()\n",
    "    texts.append(re.sub(RUS_RE, \"\", text.lower()))\n",
    "    \n",
    "with open(\"WarAndPeace.txt\", \"r\", encoding=\"UTF-8\") as handler:\n",
    "    text = handler.read()\n",
    "    texts.append(re.sub(RUS_RE, \"\", text.lower()))\n",
    "    \n",
    "with open(\"WarAndPeaceEng.txt\", \"r\", encoding=\"UTF-8\") as handler:\n",
    "    text = handler.read()\n",
    "    texts.append(re.sub(ENG_RE, \"\", text.lower()))"
   ]
  },
  {
   "cell_type": "code",
   "execution_count": 28,
   "id": "2a608b7a",
   "metadata": {},
   "outputs": [
    {
     "data": {
      "text/plain": [
       "'минуты через две из двери бодрым шагом вышла быстро повернулась и стала подле надзирателя невысокая и очень полногрудая молодая женщина в сером халате надетом на белую кофту и на белую юбку на ногах женщины были полотняные чулки на чулках  острожные коты голова была повязана белой косынкой изпод которой очевидно умышленно были выпущены колечки вьющихся черных волос все лицо женщины было той особенной белизны которая бывает на лицах людей проведших долгое время взаперти и которая напоминает ростки картофеля в подвале'"
      ]
     },
     "execution_count": 28,
     "metadata": {},
     "output_type": "execute_result"
    }
   ],
   "source": [
    "# For further use let's preprocess the example text in Russian\n",
    "fragment = re.sub(RUS_RE, \"\", EXAMPLES[0].lower())\n",
    "fragment"
   ]
  },
  {
   "cell_type": "markdown",
   "id": "6b36acf7",
   "metadata": {},
   "source": [
    "## Part 1\n",
    "### Реализуйте базовый частотный метод по Шерлоку Холмсу\n",
    "- подсчитайте частоты букв по корпусам (пунктуацию и капитализацию можно просто опустить, а вот пробелы лучше оставить);\n",
    "- возьмите какие-нибудь тестовые тексты (нужно взять по меньшей мере 2-3 предложения, иначе совсем вряд ли сработает), зашифруйте их посредством случайной перестановки символов;\n",
    "- расшифруйте их таким частотным методом"
   ]
  },
  {
   "cell_type": "code",
   "execution_count": 29,
   "id": "8efd66f5",
   "metadata": {},
   "outputs": [],
   "source": [
    "def freq_dict(\n",
    "    text: str,\n",
    "    n_gram: int=1\n",
    ") -> Counter:\n",
    "    \n",
    "    d = Counter()\n",
    "    for group_begin in range(len(text) + 1 - n_gram):\n",
    "        group = text[group_begin : group_begin + n_gram]\n",
    "        d[group] += 1\n",
    "    for key in d:\n",
    "        d[key] /= len(text)\n",
    "    return d\n",
    "\n",
    "\n",
    "def forward_mapping(\n",
    "    freqs: dict\n",
    ") -> dict:\n",
    "    \n",
    "    orig = list(freqs.keys())\n",
    "    subs = np.random.choice(orig, replace=False, size=len(freqs))\n",
    "    mapping = dict()\n",
    "    for orig_char, subs_char in zip(orig, subs):\n",
    "        mapping[orig_char] = subs_char\n",
    "    return mapping\n",
    "\n",
    "\n",
    "def reverse_mapping(\n",
    "    freqs: dict,\n",
    "    sample_freqs: dict\n",
    ") -> dict:\n",
    "    \n",
    "    freqs_sorted = sorted(freqs.items(), key=lambda x: x[1], reverse=True)\n",
    "    sample_freqs_sorted = sorted(sample_freqs.items(), key=lambda x: x[1], reverse=True)\n",
    "    \n",
    "    reverse_mapping = dict()\n",
    "    for sample_char, sample_freq in sample_freqs_sorted:\n",
    "        min_diff = 1\n",
    "        best_char = None\n",
    "        for corpus_char, freq in freqs_sorted:\n",
    "            diff = abs(freq - sample_freq)\n",
    "            if diff < min_diff:\n",
    "                best_char = corpus_char\n",
    "                min_diff = diff\n",
    "\n",
    "        reverse_mapping[sample_char] = best_char\n",
    "        freqs_sorted = [(char, freq) for char, freq in freqs_sorted if char !=best_char] \n",
    "    return reverse_mapping\n",
    "\n",
    "\n",
    "def apply_mapping(\n",
    "    text: str,\n",
    "    mapping: dict\n",
    ") -> str:\n",
    "    \n",
    "    new_str = \"\"\n",
    "    step = len(list(mapping.keys())[0])\n",
    "    for i in range(0, (len(text) // step * step), step):\n",
    "        new_str += mapping.get(text[i: i + step])\n",
    "    return new_str\n",
    "\n",
    "\n",
    "def decrypting_accuracy(\n",
    "    text1: str,\n",
    "    text2: str\n",
    ") -> float:\n",
    "\n",
    "    correct = 0\n",
    "    for char1, char2 in zip(text1, text2):\n",
    "        correct += int(char1 == char2)\n",
    "    return correct / len(text1)\n",
    "\n",
    "\n",
    "def mapping_accuracy(\n",
    "    mapping1: dict,\n",
    "    mapping2: list\n",
    ") -> float:\n",
    "    \n",
    "    correct = 0\n",
    "    for (key1, value1), (key2, value2) in zip(mapping1.items(), mapping2.items()):\n",
    "        correct += 1 * (mapping2.get(mapping1[key1]) == value2)\n",
    "    return correct / len(mapping)"
   ]
  },
  {
   "cell_type": "code",
   "execution_count": 30,
   "id": "57b39235",
   "metadata": {},
   "outputs": [
    {
     "name": "stdout",
     "output_type": "stream",
     "text": [
      "{'в': 'п', 'о': 'б', 'й': 'ц', 'н': 'р', 'а': 'м', ' ': 'т', 'и': 'э', 'м': 'о', 'р': 'в', 'с': 'и', 'ы': 'з', 'з': 'ь', 'е': 'д', 'т': 'ж', 'л': 'ч', 'ь': 'к', 'к': 'н', 'ч': 'ы', 'г': 'ф', 'д': 'у', 'у': 'г', 'п': 'е', 'я': 'с', 'ж': 'ъ', 'б': ' ', 'щ': 'а', 'ф': 'ш', 'э': 'щ', 'х': 'я', 'ю': 'х', 'ш': 'й', 'ц': 'ю', 'ъ': 'л'}\n"
     ]
    }
   ],
   "source": [
    "corpus_freqs = freq_dict(texts[1])\n",
    "\n",
    "mapping = forward_mapping(corpus_freqs)\n",
    "print(mapping)\n",
    "\n",
    "encoded_text = apply_mapping(fragment, mapping)"
   ]
  },
  {
   "cell_type": "code",
   "execution_count": 31,
   "id": "6a8c7d69",
   "metadata": {},
   "outputs": [
    {
     "data": {
      "text/plain": [
       "(Counter({'м': 0.01727447216890595,\n",
       "          'и': 0.04798464491362764,\n",
       "          'н': 0.06525911708253358,\n",
       "          'у': 0.02111324376199616,\n",
       "          'т': 0.036468330134357005,\n",
       "          'ы': 0.04030710172744722,\n",
       "          ' ': 0.15163147792706333,\n",
       "          'ч': 0.013435700575815739,\n",
       "          'е': 0.0710172744721689,\n",
       "          'р': 0.0345489443378119,\n",
       "          'з': 0.013435700575815739,\n",
       "          'д': 0.026871401151631478,\n",
       "          'в': 0.036468330134357005,\n",
       "          'б': 0.02495201535508637,\n",
       "          'о': 0.1017274472168906,\n",
       "          'ш': 0.007677543186180422,\n",
       "          'а': 0.06525911708253358,\n",
       "          'г': 0.009596928982725527,\n",
       "          'л': 0.05566218809980806,\n",
       "          'с': 0.023032629558541268,\n",
       "          'п': 0.02111324376199616,\n",
       "          'ь': 0.005758157389635317,\n",
       "          'я': 0.02111324376199616,\n",
       "          'к': 0.028790786948176585,\n",
       "          'ж': 0.007677543186180422,\n",
       "          'щ': 0.009596928982725527,\n",
       "          'х': 0.013435700575815739,\n",
       "          'ю': 0.009596928982725527,\n",
       "          'ф': 0.003838771593090211,\n",
       "          'й': 0.011516314779270634,\n",
       "          'ц': 0.003838771593090211}),\n",
       " Counter({'о': 0.01727447216890595,\n",
       "          'э': 0.04798464491362764,\n",
       "          'р': 0.06525911708253358,\n",
       "          'г': 0.02111324376199616,\n",
       "          'ж': 0.036468330134357005,\n",
       "          'з': 0.04030710172744722,\n",
       "          'т': 0.15163147792706333,\n",
       "          'ы': 0.013435700575815739,\n",
       "          'д': 0.0710172744721689,\n",
       "          'в': 0.0345489443378119,\n",
       "          'ь': 0.013435700575815739,\n",
       "          'у': 0.026871401151631478,\n",
       "          'п': 0.036468330134357005,\n",
       "          ' ': 0.02495201535508637,\n",
       "          'б': 0.1017274472168906,\n",
       "          'й': 0.007677543186180422,\n",
       "          'м': 0.06525911708253358,\n",
       "          'ф': 0.009596928982725527,\n",
       "          'ч': 0.05566218809980806,\n",
       "          'и': 0.023032629558541268,\n",
       "          'е': 0.02111324376199616,\n",
       "          'к': 0.005758157389635317,\n",
       "          'с': 0.02111324376199616,\n",
       "          'н': 0.028790786948176585,\n",
       "          'ъ': 0.007677543186180422,\n",
       "          'а': 0.009596928982725527,\n",
       "          'я': 0.013435700575815739,\n",
       "          'х': 0.009596928982725527,\n",
       "          'ш': 0.003838771593090211,\n",
       "          'ц': 0.011516314779270634,\n",
       "          'ю': 0.003838771593090211}))"
      ]
     },
     "execution_count": 31,
     "metadata": {},
     "output_type": "execute_result"
    }
   ],
   "source": [
    "fragment_freqs = freq_dict(fragment)\n",
    "encoded_freqs = freq_dict(encoded_text)\n",
    "fragment_freqs, encoded_freqs"
   ]
  },
  {
   "cell_type": "code",
   "execution_count": 32,
   "id": "9e6a578d",
   "metadata": {},
   "outputs": [
    {
     "name": "stdout",
     "output_type": "stream",
     "text": [
      "{'т': ' ', 'б': 'о', 'д': 'а', 'р': 'е', 'м': 'и', 'ч': 'н', 'э': 'т', 'з': 'л', 'ж': 'р', 'п': 'в', 'в': 'к', 'н': 'д', 'у': 'м', ' ': 'у', 'и': 'п', 'г': 'я', 'е': 'г', 'с': 'ь', 'о': 'ы', 'ы': 'б', 'ь': 'з', 'я': 'ч', 'ц': 'й', 'ф': 'ж', 'а': 'ш', 'х': 'х', 'й': 'ю', 'ъ': 'ц', 'к': 'э', 'ш': 'щ', 'ю': 'ф'}\n"
     ]
    },
    {
     "data": {
      "text/plain": [
       "'ытеярл баказ мва тз мвакт уомклы юижоы влюни улпрко говакеянипэ т прини гомна еимзткирань еавлподиь т обаеэ гонеожкямиь ыономиь цаештеи в пакоы чинира еимароы еи уанях дощря т еи уанях худя еи еожич цаештел улнт гонореьела бяндт еи бяндич  опркоцела дорл жонови улни говьзиеи уаной допледой тзгом дорокой обавтмео яылюнаеео улнт влгяшаел донабдт вэхштчпь бакелч воноп впа нтфо цаештел улно рой опоуаееой уантзел дорокиь улвиар еи нтфич нхмай гковамютч монжоа вкаыь взигакрт т дорокиь еигоытеиар копрдт дикрощань в гомвина'"
      ]
     },
     "execution_count": 32,
     "metadata": {},
     "output_type": "execute_result"
    }
   ],
   "source": [
    "reverse_unigram_mapping = reverse_mapping(corpus_freqs, encoded_freqs)\n",
    "print(reverse_unigram_mapping)\n",
    "decoded_text = apply_mapping(encoded_text, reverse_unigram_mapping)\n",
    "decoded_text"
   ]
  },
  {
   "cell_type": "code",
   "execution_count": 33,
   "id": "71773d3d",
   "metadata": {},
   "outputs": [
    {
     "data": {
      "text/plain": [
       "'оэргжзтыдвдьтупдтэьтупдвэт бувзотймфботпзйчмт зижвбтебпдвргчмиктэтижмчмтебучдтрмуьэвмждчстрдпзибнмстэтбыдрктебчрбфвгумстобчбумстъдраэрмтптидвботямчмждтрмуджботрмт дчгхтнбшжгтэтрмт дчгхтх нгтрмтрбфмятъдраэрзт зчэтебчбжрсрздтыгчнэтрмтыгчнмяттбижвбърздтнбжзтфбчбпмт зчмтебпсьмрмт дчбцтнбизрнбцтэьебутнбжбвбцтбыдпэурбтгозйчдррбт зчэтпзегадрзтнбчдынэтпкхаэяистыдврзятпбчбитпидтчэюбтъдраэрзт зчбтжбцтбиб дррбцт дчэьрзтнбжбвмст зпмджтрмтчэюмятчхудцтевбпдуйэятубчфбдтпвдостпьмедвжэтэтнбжбвмстрмебоэрмджтвбижнэтнмвжбшдчстптебупмчд'"
      ]
     },
     "execution_count": 33,
     "metadata": {},
     "output_type": "execute_result"
    }
   ],
   "source": [
    "encoded_text"
   ]
  },
  {
   "cell_type": "code",
   "execution_count": 34,
   "id": "b7eb4bf4",
   "metadata": {},
   "outputs": [
    {
     "data": {
      "text/plain": [
       "(0.31477927063339733, 0.12121212121212122)"
      ]
     },
     "execution_count": 34,
     "metadata": {},
     "output_type": "execute_result"
    }
   ],
   "source": [
    "decrypting_accuracy(fragment, decoded_text), mapping_accuracy(mapping, reverse_unigram_mapping)"
   ]
  },
  {
   "cell_type": "markdown",
   "id": "8d9bb9ca",
   "metadata": {},
   "source": [
    "### Not so bad at all. Let's try to improve it!"
   ]
  },
  {
   "cell_type": "markdown",
   "id": "5e7772f2",
   "metadata": {},
   "source": [
    "## Part 2\n",
    "Вряд ли в результате получилась такая уж хорошая расшифровка, разве что если вы брали в качестве тестовых данных целые рассказы. Но и Шерлок Холмс был не так уж прост: после буквы E, которая действительно выделяется частотой, дальше он анализировал уже конкретные слова и пытался угадать, какими они могли бы быть. Я не знаю, как запрограммировать такой интуитивный анализ, так что давайте просто сделаем следующий логический шаг:\n",
    "- подсчитайте частоты биграмм (т.е. пар последовательных букв) по корпусам;\n",
    "- проведите тестирование аналогично п.1, но при помощи биграмм."
   ]
  },
  {
   "cell_type": "code",
   "execution_count": 35,
   "id": "1a33c6e6",
   "metadata": {},
   "outputs": [],
   "source": [
    "corpus_freqs_bigram = freq_dict(texts[1], n_gram=2)\n",
    "encoded_freqs_bigram = freq_dict(encoded_text, n_gram=2)\n",
    "\n",
    "corpus_freqs_sorted = sorted(corpus_freqs_bigram.items(), key=lambda x: x[1], reverse=True)\n",
    "encoded_freqs_sorted = sorted(encoded_freqs_bigram.items(), key=lambda x: x[1], reverse=True)"
   ]
  },
  {
   "cell_type": "code",
   "execution_count": 36,
   "id": "451a2826",
   "metadata": {},
   "outputs": [
    {
     "data": {
      "text/plain": [
       "'оэргжзтыдвдьтупдтэьтупдвэт бувзотймфботпзйчмт зижвбтебпдвргчмиктэтижмчмтебучдтрмуьэвмждчстрдпзибнмстэтбыдрктебчрбфвгумстобчбумстъдраэрмтптидвботямчмждтрмуджботрмт дчгхтнбшжгтэтрмт дчгхтх нгтрмтрбфмятъдраэрзт зчэтебчбжрсрздтыгчнэтрмтыгчнмяттбижвбърздтнбжзтфбчбпмт зчмтебпсьмрмт дчбцтнбизрнбцтэьебутнбжбвбцтбыдпэурбтгозйчдррбт зчэтпзегадрзтнбчдынэтпкхаэяистыдврзятпбчбитпидтчэюбтъдраэрзт зчбтжбцтбиб дррбцт дчэьрзтнбжбвмст зпмджтрмтчэюмятчхудцтевбпдуйэятубчфбдтпвдостпьмедвжэтэтнбжбвмстрмебоэрмджтвбижнэтнмвжбшдчстптебупмчд'"
      ]
     },
     "execution_count": 36,
     "metadata": {},
     "output_type": "execute_result"
    }
   ],
   "source": [
    "encoded_text"
   ]
  },
  {
   "cell_type": "code",
   "execution_count": 37,
   "id": "ad08f292",
   "metadata": {},
   "outputs": [
    {
     "name": "stdout",
     "output_type": "stream",
     "text": [
      "{'эт': 'о ', 'т ': 'и ', 'мт': 'а ', 'рм': 'е ', 'тр': ' с', 'тп': ' п', 'ст': ' в', 'еб': ' н', 'тн': '  ', 'нб': 'то', 'дт': ' о', 'те': 'я ', 'др': ' к', 'бч': ' и', 'рз': 'ст', 'зт': 'на', 'дв': 'ь ', 'тэ': 'го', ' з': 'ал', 'вб': 'не', 'дч': 'по', 'чб': 'но', 'жб': 'ра', 'цт': 'ко', 'эр': 'ов', 'бу': 'л ', 'чм': 'й ', 'бт': 'ка', 'мс': ' б', 'рб': 'м ', ' д': 'во', 'ят': 'ро', 'чэ': ' д', 'бж': 'ер', 'би': 'ол', 'бц': 'ен', 'ты': ' т', 'ыд': 'он', 'пд': 'от', 'от': 'ни', 'бо': 'ос', 'иж': 'ла', 'бп': 'ли', 'чд': 'у ', 'тб': 'ло', 'аэ': 'ор', 'зч': 'в ', 'ту': 'ва', 'уп': 'пр', 'эь': 'ел', 'фб': 'ре', 'пз': ' м', 'гч': 'за', 'мч': 'та', 'вм': 'ри', 'нм': 'ан', 'тъ': ' ч', 'ъд': ' г', 'ра': 'ил', 'дж': 'ть', 'мя': 'к ', 'нэ': 'ом', 'пм': 'ат', 'бв': 'ск', 'тч': 'ог', 'оэ': ' е', 'рг': 'аз', 'жз': 'да', 'вд': ' у', 'ьт': 'ас', 'зй': 'ем', 'йч': ' з', 'зи': 'же', 'жв': 'ле', 'вр': 'с ', 'кт': 'ве', 'ти': 'ой', 'му': 'ет', 'мж': 'бы', 'жд': 'ы ', 'чс': 'мо', 'дп': ' р', 'иб': 'де', 'бы': 'до', 'бф': 'ми', 'ум': 'ав', 'пт': 'ак', 'ид': 'ль', 'уд': 'ес', 'чг': 'чт', 'гх': 'н ', 'хт': 'ти', 'бш': 'ег', 'гт': 'ня', 'зд': 'од', 'ыг': 'ит', 'чн': 'сь', 'ьм': 'т ', 'рр': 'ви', 'эя': 'ю ', 'эю': 'те', 'мд': 'ин', 'жт': 'х ', 'ме': 'ру', 'вж': 'об', 'гж': 'уд', 'дь': 'бе', 'вэ': 'ши', ' б': 'др', 'ув': 'ое', 'вз': 'тв', 'зо': 'ча', 'тй': 'ад', 'йм': 'ту', 'мф': 'эт', 'ми': 'ше', 'ик': 'ид', 'жм': 'кр', 'уч': 'ля', 'уь': 'му', 'ьэ': 'св', 'эв': 'ыл', 'рд': 'ик', 'бн': 'ок', 'рк': 'бо', 'чр': 'сп', 'фв': 'их', 'вг': ' ж', 'гу': 'из', 'то': 'си', 'об': 'хо', 'тя': 'дн', 'ям': 'кн', 'шж': 'гл', 'жг': 'ду', 'тх': 'ей', 'х ': 'сл', ' н': 'ож', 'нг': 'ия', 'фм': ' я', 'жр': 'ие', 'рс': 'ты', 'ср': 'яз', 'тт': 'ку', 'бъ': 'зн', 'ър': 'ый', 'тф': 'ул', 'пс': 'ед', 'сь': 'пе', 'мр': 'ым', 'из': ' э', 'зр': 'ее', 'рн': 'со', 'ье': 'ут', 'ут': 'ры', 'пэ': 'иц', 'эу': 'ий', 'ур': 'са', 'тг': 'ят', 'го': 'ус', 'оз': 'ки', 'зе': 'ша', 'ег': 'вн', 'га': 'лс', 'ад': 'гр', 'ды': 'ев', 'ын': 'жа', 'пк': 'оч', 'кх': 'ош', 'ха': ' л', 'яи': 'ив', 'ис': 'уж', 'зя': 'ну', 'пб': 'р ', 'ит': 'вш', 'пи': 'уг', 'юб': 'вы', 'тж': 'лы', 'б ': 'се', 'ьр': 'ам', 'зп': 'ар', 'юм': 'бр', 'чх': 'аж', 'ху': 'ме', 'дц': 'ще', 'ев': 'лу', 'ду': 'ич', 'уй': 'ди', 'йэ': 'чи', 'уб': 'па', 'чф': 'бу', 'бд': 'ба', 'пв': 'ма', 'до': 'мн', 'ос': 'нд', 'пь': 'ьк', 'ед': 'з ', 'жэ': ' х', 'тв': 'ая', 'жн': 'оп', 'мв': 'ис', 'шд': 'жи'}\n"
     ]
    },
    {
     "data": {
      "text/plain": [
       "' еазда ть беваотгоаспрь о дроечаадэтос пемй и желека нотс зашевео латаа  нля ое муылбыпо вик мдеан во до кве нспми жав вхоноав в гилова акльненикнй ы  сеттьос са вочттитоглняо е и пон ейожняе  смик  ч корсти в о  нноиеязод тзаом са итськ куоллезнст отодаул илиа алй я липеыма вонокото эсоенгоутл   ерскенлооницсакаусему викаал д пшалс кнатоу жао оч лю уж ть строр новшуг о двы ч корсти в каракоолсе км ково дамнаторари валатть са  дбрроажесколулииччиропабуба п унд пт з обо о торари ве  н ее тьаяолопо анобегпо вак нпрта'"
      ]
     },
     "execution_count": 37,
     "metadata": {},
     "output_type": "execute_result"
    }
   ],
   "source": [
    "reverse_bigram_mapping = reverse_mapping(corpus_freqs_bigram, encoded_freqs_bigram)\n",
    "print(reverse_bigram_mapping)\n",
    "decoded_text = apply_mapping(encoded_text, reverse_bigram_mapping)\n",
    "decoded_text"
   ]
  },
  {
   "cell_type": "code",
   "execution_count": 38,
   "id": "b4780374",
   "metadata": {},
   "outputs": [
    {
     "data": {
      "text/plain": [
       "'минуты через две из двери бодрым шагом вышла быстро повернулась и стала подле надзирателя невысокая и очень полногрудая молодая женщина в сером халате надетом на белую кофту и на белую юбку на ногах женщины были полотняные чулки на чулках  острожные коты голова была повязана белой косынкой изпод которой очевидно умышленно были выпущены колечки вьющихся черных волос все лицо женщины было той особенной белизны которая бывает на лицах людей проведших долгое время взаперти и которая напоминает ростки картофеля в подвале'"
      ]
     },
     "execution_count": 38,
     "metadata": {},
     "output_type": "execute_result"
    }
   ],
   "source": [
    "fragment"
   ]
  },
  {
   "cell_type": "code",
   "execution_count": 39,
   "id": "29e10f3c",
   "metadata": {},
   "outputs": [
    {
     "data": {
      "text/plain": [
       "0.11516314779270634"
      ]
     },
     "execution_count": 39,
     "metadata": {},
     "output_type": "execute_result"
    }
   ],
   "source": [
    "decrypting_accuracy(fragment, decoded_text)"
   ]
  },
  {
   "cell_type": "markdown",
   "id": "0f562969",
   "metadata": {},
   "source": [
    "### It has gotten even worse. Nice job!"
   ]
  },
  {
   "cell_type": "markdown",
   "id": "e6656019",
   "metadata": {},
   "source": [
    "## Part 3\n",
    "Но и это ещё не всё: биграммы скорее всего тоже далеко не всегда работают. Основная часть задания — в том, как можно их улучшить:\n",
    "\n",
    "- предложите метод обучения перестановки символов в этом задании, основанный на MCMC-сэмплировании, но по-прежнему работающий на основе статистики биграмм;\n",
    "- реализуйте и протестируйте его, убедитесь, что результаты улучшились.\n"
   ]
  },
  {
   "cell_type": "code",
   "execution_count": 47,
   "id": "ce74f0df",
   "metadata": {},
   "outputs": [],
   "source": [
    "def smooth_freq(\n",
    "    text: str\n",
    ") -> dict:\n",
    "\n",
    "    freqs = dict()\n",
    "    vocab_len = len(set(text)) ** 2\n",
    "    text = [\"\".join(bigram) for bigram in everygrams(text, min_len=2, max_len=2)]\n",
    "    for k, v in Counter(text).items():\n",
    "        freqs[k] = (v + 1) / (len(text) + len(set(text)) ** 2)\n",
    "    return freqs\n",
    "\n",
    "\n",
    "def text_proba(\n",
    "    text: str,\n",
    "    mapping: dict,\n",
    "    freqs: dict\n",
    ") -> np.array:\n",
    "\n",
    "    decoded_text = apply_mapping(text, mapping)\n",
    "    log_proba = 0\n",
    "    for i in range(len(decoded_text) - 2):\n",
    "        bigram = decoded_text[i: i + 2]\n",
    "        bigram_proba = freqs.get(bigram)\n",
    "        if bigram_proba is None:\n",
    "            bigram_proba = 1 / (len(text) + len(ALFA_RUS) ** 2)\n",
    "        log_proba += np.log(bigram_proba)\n",
    "    return log_proba\n",
    "     \n",
    "    \n",
    "def reverse_mapping_mcmc(\n",
    "    encoded_text: str,\n",
    "    abc_encoded: list,\n",
    "    abc_corpus: list,\n",
    "    freqs_corpus: dict\n",
    ") -> Tuple:\n",
    "\n",
    "    count = 0\n",
    "    best_mapping = None\n",
    "    all_mappings = []\n",
    "    best_log_likekihood = -np.inf\n",
    "    for trial in tqdm(range(10), leave=False, position=0, total=10):\n",
    "        abc_iter = abc_corpus\n",
    "        reverse_mapping = {k: v for k, v in zip(abc_encoded, abc_iter[:len(abc_encoded)])}\n",
    "        current = text_proba(encoded_text, reverse_mapping, freqs_corpus)\n",
    "        for i in range(21000):\n",
    "            abc_proposal = abc_iter[:]\n",
    "            x, y = np.random.choice(len(abc_proposal), replace=False, size=2)\n",
    "            abc_proposal[x], abc_proposal[y] = abc_proposal[y], abc_proposal[x]\n",
    "            reverse_mapping_proposal = {k: v for k, v in zip(abc_encoded, abc_proposal[:len(abc_encoded)])}\n",
    "            proposal = text_proba(encoded_text, reverse_mapping_proposal, freqs_corpus)\n",
    "            p = np.exp(proposal - current)\n",
    "            if p > np.random.rand():\n",
    "                count += 1\n",
    "                abc_iter = abc_proposal\n",
    "                current = proposal\n",
    "                reverse_mapping = reverse_mapping_proposal\n",
    "        if current > best_log_likekihood:\n",
    "            best_log_likekihood = current\n",
    "            best_mapping = reverse_mapping\n",
    "        all_mappings.append(reverse_mapping)\n",
    "\n",
    "    print(f\"Likelihood: {best_log_likekihood}\")\n",
    "    return best_mapping, all_mappings"
   ]
  },
  {
   "cell_type": "code",
   "execution_count": 48,
   "id": "8b636011",
   "metadata": {},
   "outputs": [],
   "source": [
    "freqs_corpus = smooth_freq(texts[0])"
   ]
  },
  {
   "cell_type": "code",
   "execution_count": 49,
   "id": "48c1a6b6",
   "metadata": {},
   "outputs": [
    {
     "name": "stderr",
     "output_type": "stream",
     "text": [
      "                                                                                                                       "
     ]
    },
    {
     "name": "stdout",
     "output_type": "stream",
     "text": [
      "Likelihood: -3082.2423673386534\n"
     ]
    },
    {
     "name": "stderr",
     "output_type": "stream",
     "text": [
      "\r"
     ]
    }
   ],
   "source": [
    "best_reverse_mapping, _ = reverse_mapping_mcmc(\n",
    "    encoded_text, \n",
    "    abc_encoded=ALFA_RUS, \n",
    "    abc_corpus=ALFA_RUS,\n",
    "    freqs_corpus=freqs_corpus\n",
    ")"
   ]
  },
  {
   "cell_type": "code",
   "execution_count": 50,
   "id": "64edbe90",
   "metadata": {},
   "outputs": [
    {
     "data": {
      "text/plain": [
       "'минуты череё две иё двери бодрым шагом вышла быстро повернулась и стала подле надёирателя невысокая и очень полногрудая молодая женъина в сером залате надетом на белую кощту и на белую юбку на ногаз женъины были полотняные чулки на чулказ  острожные коты голова была повяёана белой косынкой иёпод которой очевидно умышленно были выпуъены колечки вьюъизся черныз волос все лихо женъины было той особенной белиёны которая бывает на лихаз людей проведшиз долгое время вёаперти и которая напоминает ростки картощеля в подвале'"
      ]
     },
     "execution_count": 50,
     "metadata": {},
     "output_type": "execute_result"
    }
   ],
   "source": [
    "apply_mapping(encoded_text, best_reverse_mapping)"
   ]
  },
  {
   "cell_type": "markdown",
   "id": "8fd44cb8",
   "metadata": {},
   "source": [
    "### Almost!!!"
   ]
  },
  {
   "cell_type": "markdown",
   "id": "e3e012d6",
   "metadata": {},
   "source": [
    "## Part 4\n",
    "Расшифруйте сообщение:<br>\n",
    "დჳჵჂႨშႼႨშჂხჂჲდႨსႹႭჾႣჵისႼჰႨჂჵჂႨႲႹႧჲჂႨსႹႭჾႣჵისႼჰႨჲდႩჳჲႨჇႨႠჲႹქႹႨჳႹႹჱჶდსჂႽႨႩႹჲႹႭႼჰႨჵდქႩႹႨႲႭႹႧჂჲႣჲიႨჳႩႹႭდდႨშჳდქႹႨშႼႨშჳდႨჳხდჵႣჵჂႨႲႭႣშჂჵისႹႨჂႨႲႹჵჇႧჂჲდႨჾႣႩჳჂჾႣჵისႼჰႨჱႣჵჵႨეႣႨႲႹჳჵდხსდდႨႧდჲშდႭჲႹდႨეႣხႣსჂდႨႩჇႭჳႣႨႾႹჲႽႨႩႹსდႧსႹႨႽႨსჂႧდქႹႨსდႨႹჱდჶႣნ"
   ]
  },
  {
   "cell_type": "code",
   "execution_count": 51,
   "id": "daa6941b",
   "metadata": {},
   "outputs": [],
   "source": [
    "vsm = \"დჳჵჂႨშႼႨშჂხჂჲდႨსႹႭჾႣჵისႼჰႨჂჵჂႨႲႹႧჲჂႨსႹႭჾႣჵისႼჰႨჲდႩჳჲႨჇႨႠჲႹქႹႨჳႹႹჱჶდსჂႽႨႩႹჲႹႭႼჰႨჵდქႩႹႨႲႭႹႧჂჲႣჲიႨჳႩႹႭდდႨშჳდქႹႨშႼႨშჳდႨჳხდჵႣჵჂႨႲႭႣშჂჵისႹႨჂႨႲႹჵჇႧჂჲდႨჾႣႩჳჂჾႣჵისႼჰႨჱႣჵჵႨეႣႨႲႹჳჵდხსდდႨႧდჲშდႭჲႹდႨეႣხႣსჂდႨႩჇႭჳႣႨႾႹჲႽႨႩႹსდႧსႹႨႽႨსჂႧდქႹႨსდႨႹჱდჶႣნ\""
   ]
  },
  {
   "cell_type": "code",
   "execution_count": 52,
   "id": "7ed014b5",
   "metadata": {},
   "outputs": [
    {
     "name": "stderr",
     "output_type": "stream",
     "text": [
      "                                                                                                                       "
     ]
    },
    {
     "name": "stdout",
     "output_type": "stream",
     "text": [
      "Likelihood: -1309.8584046230385\n"
     ]
    },
    {
     "name": "stderr",
     "output_type": "stream",
     "text": [
      "\r"
     ]
    }
   ],
   "source": [
    "best_reverse_mapping, _ = reverse_mapping_mcmc(\n",
    "    vsm, \n",
    "    abc_encoded=list(set(vsm)), \n",
    "    abc_corpus=ALFA_RUS,\n",
    "    freqs_corpus=freqs_corpus\n",
    ")"
   ]
  },
  {
   "cell_type": "code",
   "execution_count": 53,
   "id": "8ac3e8b3",
   "metadata": {},
   "outputs": [
    {
     "data": {
      "text/plain": [
       "'если вы вимите нордальный или почти нордальный текст у этого соожшения который легко прочитать скорее всего вы все смелали правильно и получите даксидальный жалл за послемнее четвертое замание курса ботя конечно я ничего не ожешаё'"
      ]
     },
     "execution_count": 53,
     "metadata": {},
     "output_type": "execute_result"
    }
   ],
   "source": [
    "apply_mapping(vsm, best_reverse_mapping)"
   ]
  },
  {
   "cell_type": "markdown",
   "id": "8848c797",
   "metadata": {},
   "source": [
    "#### Although the vsm (very secret message) sounds as it is read by someone who caught the flu, it is still clear, I hope. The letters \"м\" & \"д\" and some other pairs are still not on places."
   ]
  },
  {
   "cell_type": "code",
   "execution_count": null,
   "id": "e623ae90",
   "metadata": {},
   "outputs": [],
   "source": []
  },
  {
   "cell_type": "code",
   "execution_count": null,
   "id": "5ed2e43d",
   "metadata": {},
   "outputs": [],
   "source": []
  }
 ],
 "metadata": {
  "celltoolbar": "Raw Cell Format",
  "kernelspec": {
   "display_name": "Python 3",
   "language": "python",
   "name": "python3"
  },
  "language_info": {
   "codemirror_mode": {
    "name": "ipython",
    "version": 3
   },
   "file_extension": ".py",
   "mimetype": "text/x-python",
   "name": "python",
   "nbconvert_exporter": "python",
   "pygments_lexer": "ipython3",
   "version": "3.8.2"
  }
 },
 "nbformat": 4,
 "nbformat_minor": 5
}
